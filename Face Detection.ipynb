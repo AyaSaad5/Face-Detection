{
 "cells": [
  {
   "cell_type": "code",
   "execution_count": 1,
   "id": "b5098cd8-43ac-4bb2-8de4-5fe7bbcdb37a",
   "metadata": {},
   "outputs": [],
   "source": [
    "import cv2\n"
   ]
  },
  {
   "cell_type": "code",
   "execution_count": 2,
   "id": "6c0bfd47-4122-42f2-99d2-2a0fddb7a830",
   "metadata": {},
   "outputs": [],
   "source": [
    "face_detect = cv2.CascadeClassifier(\"haarcascade_frontalface_default.xml\")"
   ]
  },
  {
   "cell_type": "code",
   "execution_count": 3,
   "id": "ca593875-65da-485a-ad92-9b86b37cf87b",
   "metadata": {},
   "outputs": [],
   "source": [
    "#cap = cv2.VideoCapture(\"C:/Users/dell/Videos/_Getintopc.com_IDM_Internet_Download_Manager.mp4\")\n",
    "cap = cv2.VideoCapture(0)"
   ]
  },
  {
   "cell_type": "code",
   "execution_count": 4,
   "id": "515eb91e-6c9c-4cd1-bc97-8e2ccd26aad6",
   "metadata": {},
   "outputs": [],
   "source": [
    "while True:\n",
    "    state , frame = cap.read(0)\n",
    "    gray_frame = cv2.cvtColor(frame , cv2.COLOR_BGR2GRAY)\n",
    "    faces = face_detect.detectMultiScale(gray_frame , 1.3 ,5)\n",
    "   # print(faces)\n",
    "    \n",
    "    for (x,y,w,h) in faces:  \n",
    "        cv2.rectangle(frame ,(x,y) , (x+w , y+h) , (0,255,0), 2 )\n",
    "    \n",
    "    cv2.imshow(\"vid\" ,frame)\n",
    "       \n",
    "    if cv2.waitKey(30) & 0xff == ord(\"q\"):\n",
    "        break\n",
    "        \n",
    "    \n",
    "cap.release()\n",
    "cv2.destroyAllWindows()"
   ]
  },
  {
   "cell_type": "code",
   "execution_count": null,
   "id": "c84e1068-7d33-415f-b6ce-bd390953891f",
   "metadata": {},
   "outputs": [],
   "source": []
  },
  {
   "cell_type": "code",
   "execution_count": null,
   "id": "ca5d5423-eebe-4183-aadd-1b6e73edb1e4",
   "metadata": {},
   "outputs": [],
   "source": []
  }
 ],
 "metadata": {
  "kernelspec": {
   "display_name": "Python 3 (ipykernel)",
   "language": "python",
   "name": "python3"
  },
  "language_info": {
   "codemirror_mode": {
    "name": "ipython",
    "version": 3
   },
   "file_extension": ".py",
   "mimetype": "text/x-python",
   "name": "python",
   "nbconvert_exporter": "python",
   "pygments_lexer": "ipython3",
   "version": "3.9.13"
  }
 },
 "nbformat": 4,
 "nbformat_minor": 5
}
